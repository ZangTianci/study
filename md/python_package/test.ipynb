{
 "cells": [
  {
   "cell_type": "code",
   "execution_count": 2,
   "metadata": {},
   "outputs": [],
   "source": [
    "import json\n",
    "import os\n",
    "import numpy as np"
   ]
  },
  {
   "cell_type": "code",
   "execution_count": 3,
   "metadata": {},
   "outputs": [],
   "source": [
    "def read_json(path):\n",
    "    with open(os.path.join(path,\"Falldown.json\"), mode='r', encoding='utf8') as js:\n",
    "        Falldown_data = json.load(js)\n",
    "        Falldown_id = [x['id'] for x in Falldown_data]\n",
    "\n",
    "    with open(os.path.join(path,\"tracking.json\"), mode='r', encoding='utf8') as js:\n",
    "        tracking_data = json.load(js)\n",
    "    tracking_data = [x for x in tracking_data if x['BASE']['id'] in Falldown_id]\n",
    "    for tracking_datum in tracking_data:\n",
    "        id = tracking_datum['BASE']['id']\n",
    "        in_babystroller_region = np.sum(tracking_datum['EVENT']['Falldown']['in_babystroller_region'])\n",
    "        print(f'id={id}', f'in_babystroller_region={in_babystroller_region}')"
   ]
  },
  {
   "cell_type": "code",
   "execution_count": 4,
   "metadata": {},
   "outputs": [
    {
     "name": "stdout",
     "output_type": "stream",
     "text": [
      "/media/ztc/Data/Falldown/20220918/LB/result/LB_20220918092604_67\n",
      "====================\n",
      "/media/ztc/Data/Falldown/20220918/LB/result/LB_20220918112342_67\n",
      "id=47 in_babystroller_region=0\n",
      "id=72 in_babystroller_region=0\n",
      "====================\n",
      "/media/ztc/Data/Falldown/20220918/LB/result/LB_20220918112345_67\n",
      "id=47 in_babystroller_region=0\n",
      "id=72 in_babystroller_region=0\n",
      "====================\n",
      "/media/ztc/Data/Falldown/20220918/LB/result/LB_20220918112922_67\n",
      "====================\n",
      "/media/ztc/Data/Falldown/20220918/LB/result/LB_20220918125256_67\n",
      "id=24 in_babystroller_region=0\n",
      "====================\n",
      "/media/ztc/Data/Falldown/20220918/LB/result/LB_20220918131947_67\n",
      "id=7 in_babystroller_region=0\n",
      "====================\n",
      "/media/ztc/Data/Falldown/20220918/LB/result/LB_20220918140822_67\n",
      "id=29 in_babystroller_region=0\n",
      "====================\n",
      "/media/ztc/Data/Falldown/20220918/LB/result/LB_20220918150644_67\n",
      "id=40 in_babystroller_region=0\n",
      "====================\n",
      "/media/ztc/Data/Falldown/20220918/LB/result/LB_20220918154353_67\n",
      "====================\n",
      "/media/ztc/Data/Falldown/20220918/LB/result/LB_20220918154544_67\n",
      "id=28 in_babystroller_region=0\n",
      "====================\n",
      "/media/ztc/Data/Falldown/20220918/LB/result/LB_20220918155419_67\n",
      "id=27 in_babystroller_region=2\n",
      "====================\n"
     ]
    }
   ],
   "source": [
    "root_path = \"/media/ztc/Data/Falldown/20220918/LB/result/\"\n",
    "paths = [os.path.join(root_path,x) for x in os.listdir(root_path)]\n",
    "paths = [x for x in paths if x.split(\"_\")[-1] == \"67\"]\n",
    "for path in paths:\n",
    "    print(path)\n",
    "    read_json(path)\n",
    "    print(\"=\"*20)"
   ]
  },
  {
   "cell_type": "code",
   "execution_count": null,
   "metadata": {},
   "outputs": [],
   "source": []
  }
 ],
 "metadata": {
  "kernelspec": {
   "display_name": "Python 3.8.10 64-bit",
   "language": "python",
   "name": "python3"
  },
  "language_info": {
   "codemirror_mode": {
    "name": "ipython",
    "version": 3
   },
   "file_extension": ".py",
   "mimetype": "text/x-python",
   "name": "python",
   "nbconvert_exporter": "python",
   "pygments_lexer": "ipython3",
   "version": "3.8.10"
  },
  "orig_nbformat": 4,
  "vscode": {
   "interpreter": {
    "hash": "767d51c1340bd893661ea55ea3124f6de3c7a262a8b4abca0554b478b1e2ff90"
   }
  }
 },
 "nbformat": 4,
 "nbformat_minor": 2
}
